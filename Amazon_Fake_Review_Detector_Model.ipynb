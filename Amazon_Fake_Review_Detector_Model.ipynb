{
  "nbformat": 4,
  "nbformat_minor": 0,
  "metadata": {
    "colab": {
      "provenance": [],
      "authorship_tag": "ABX9TyOksnFsUDKtnlHfYS1TfB23",
      "include_colab_link": true
    },
    "kernelspec": {
      "name": "python3",
      "display_name": "Python 3"
    },
    "language_info": {
      "name": "python"
    }
  },
  "cells": [
    {
      "cell_type": "markdown",
      "metadata": {
        "id": "view-in-github",
        "colab_type": "text"
      },
      "source": [
        "<a href=\"https://colab.research.google.com/github/gcilinskas/amz_review_pub/blob/main/Amazon_Fake_Review_Detector_Model.ipynb\" target=\"_parent\"><img src=\"https://colab.research.google.com/assets/colab-badge.svg\" alt=\"Open In Colab\"/></a>"
      ]
    },
    {
      "cell_type": "code",
      "execution_count": 99,
      "metadata": {
        "colab": {
          "base_uri": "https://localhost:8080/"
        },
        "id": "omZe5KBjaQ6-",
        "outputId": "c0c1add6-5ec0-49ef-b71a-9e8efa893be6"
      },
      "outputs": [
        {
          "output_type": "stream",
          "name": "stderr",
          "text": [
            "[nltk_data] Downloading package stopwords to /root/nltk_data...\n",
            "[nltk_data]   Package stopwords is already up-to-date!\n"
          ]
        },
        {
          "output_type": "execute_result",
          "data": {
            "text/plain": [
              "True"
            ]
          },
          "metadata": {},
          "execution_count": 99
        }
      ],
      "source": [
        "import numpy as np\n",
        "import pandas as pd\n",
        "from sklearn.feature_extraction.text import CountVectorizer, TfidfTransformer\n",
        "import warnings, string\n",
        "import nltk\n",
        "from nltk.corpus import stopwords\n",
        "from matplotlib import pyplot as plt\n",
        "from sklearn.model_selection import train_test_split, GridSearchCV\n",
        "from sklearn.pipeline import Pipeline\n",
        "from sklearn.naive_bayes import MultinomialNB\n",
        "from sklearn.linear_model import LogisticRegression\n",
        "from sklearn.metrics import classification_report, confusion_matrix, accuracy_score\n",
        "import seaborn as sns\n",
        "\n",
        "nltk.download('stopwords')"
      ]
    },
    {
      "cell_type": "code",
      "source": [
        "## import dataset\n",
        "## source: https://osf.io/2axm3/\n",
        "## https://www.sciencedirect.com/science/article/pii/S0969698921003374\n",
        "df = pd.read_csv('sample_data/fake reviews dataset.csv')\n",
        "df.head()"
      ],
      "metadata": {
        "colab": {
          "base_uri": "https://localhost:8080/",
          "height": 206
        },
        "id": "pwNLKBx3aTNH",
        "outputId": "fe4acf4d-7ec1-461b-8491-99f54ed4872a"
      },
      "execution_count": 100,
      "outputs": [
        {
          "output_type": "execute_result",
          "data": {
            "text/plain": [
              "             category  rating label  \\\n",
              "0  Home_and_Kitchen_5     5.0    CG   \n",
              "1  Home_and_Kitchen_5     5.0    CG   \n",
              "2  Home_and_Kitchen_5     5.0    CG   \n",
              "3  Home_and_Kitchen_5     1.0    CG   \n",
              "4  Home_and_Kitchen_5     5.0    CG   \n",
              "\n",
              "                                               text_  \n",
              "0  Love this!  Well made, sturdy, and very comfor...  \n",
              "1  love it, a great upgrade from the original.  I...  \n",
              "2  This pillow saved my back. I love the look and...  \n",
              "3  Missing information on how to use it, but it i...  \n",
              "4  Very nice set. Good quality. We have had the s...  "
            ],
            "text/html": [
              "\n",
              "  <div id=\"df-2f458eeb-4833-4ffd-b244-3fb8d412e92c\" class=\"colab-df-container\">\n",
              "    <div>\n",
              "<style scoped>\n",
              "    .dataframe tbody tr th:only-of-type {\n",
              "        vertical-align: middle;\n",
              "    }\n",
              "\n",
              "    .dataframe tbody tr th {\n",
              "        vertical-align: top;\n",
              "    }\n",
              "\n",
              "    .dataframe thead th {\n",
              "        text-align: right;\n",
              "    }\n",
              "</style>\n",
              "<table border=\"1\" class=\"dataframe\">\n",
              "  <thead>\n",
              "    <tr style=\"text-align: right;\">\n",
              "      <th></th>\n",
              "      <th>category</th>\n",
              "      <th>rating</th>\n",
              "      <th>label</th>\n",
              "      <th>text_</th>\n",
              "    </tr>\n",
              "  </thead>\n",
              "  <tbody>\n",
              "    <tr>\n",
              "      <th>0</th>\n",
              "      <td>Home_and_Kitchen_5</td>\n",
              "      <td>5.0</td>\n",
              "      <td>CG</td>\n",
              "      <td>Love this!  Well made, sturdy, and very comfor...</td>\n",
              "    </tr>\n",
              "    <tr>\n",
              "      <th>1</th>\n",
              "      <td>Home_and_Kitchen_5</td>\n",
              "      <td>5.0</td>\n",
              "      <td>CG</td>\n",
              "      <td>love it, a great upgrade from the original.  I...</td>\n",
              "    </tr>\n",
              "    <tr>\n",
              "      <th>2</th>\n",
              "      <td>Home_and_Kitchen_5</td>\n",
              "      <td>5.0</td>\n",
              "      <td>CG</td>\n",
              "      <td>This pillow saved my back. I love the look and...</td>\n",
              "    </tr>\n",
              "    <tr>\n",
              "      <th>3</th>\n",
              "      <td>Home_and_Kitchen_5</td>\n",
              "      <td>1.0</td>\n",
              "      <td>CG</td>\n",
              "      <td>Missing information on how to use it, but it i...</td>\n",
              "    </tr>\n",
              "    <tr>\n",
              "      <th>4</th>\n",
              "      <td>Home_and_Kitchen_5</td>\n",
              "      <td>5.0</td>\n",
              "      <td>CG</td>\n",
              "      <td>Very nice set. Good quality. We have had the s...</td>\n",
              "    </tr>\n",
              "  </tbody>\n",
              "</table>\n",
              "</div>\n",
              "    <div class=\"colab-df-buttons\">\n",
              "\n",
              "  <div class=\"colab-df-container\">\n",
              "    <button class=\"colab-df-convert\" onclick=\"convertToInteractive('df-2f458eeb-4833-4ffd-b244-3fb8d412e92c')\"\n",
              "            title=\"Convert this dataframe to an interactive table.\"\n",
              "            style=\"display:none;\">\n",
              "\n",
              "  <svg xmlns=\"http://www.w3.org/2000/svg\" height=\"24px\" viewBox=\"0 -960 960 960\">\n",
              "    <path d=\"M120-120v-720h720v720H120Zm60-500h600v-160H180v160Zm220 220h160v-160H400v160Zm0 220h160v-160H400v160ZM180-400h160v-160H180v160Zm440 0h160v-160H620v160ZM180-180h160v-160H180v160Zm440 0h160v-160H620v160Z\"/>\n",
              "  </svg>\n",
              "    </button>\n",
              "\n",
              "  <style>\n",
              "    .colab-df-container {\n",
              "      display:flex;\n",
              "      gap: 12px;\n",
              "    }\n",
              "\n",
              "    .colab-df-convert {\n",
              "      background-color: #E8F0FE;\n",
              "      border: none;\n",
              "      border-radius: 50%;\n",
              "      cursor: pointer;\n",
              "      display: none;\n",
              "      fill: #1967D2;\n",
              "      height: 32px;\n",
              "      padding: 0 0 0 0;\n",
              "      width: 32px;\n",
              "    }\n",
              "\n",
              "    .colab-df-convert:hover {\n",
              "      background-color: #E2EBFA;\n",
              "      box-shadow: 0px 1px 2px rgba(60, 64, 67, 0.3), 0px 1px 3px 1px rgba(60, 64, 67, 0.15);\n",
              "      fill: #174EA6;\n",
              "    }\n",
              "\n",
              "    .colab-df-buttons div {\n",
              "      margin-bottom: 4px;\n",
              "    }\n",
              "\n",
              "    [theme=dark] .colab-df-convert {\n",
              "      background-color: #3B4455;\n",
              "      fill: #D2E3FC;\n",
              "    }\n",
              "\n",
              "    [theme=dark] .colab-df-convert:hover {\n",
              "      background-color: #434B5C;\n",
              "      box-shadow: 0px 1px 3px 1px rgba(0, 0, 0, 0.15);\n",
              "      filter: drop-shadow(0px 1px 2px rgba(0, 0, 0, 0.3));\n",
              "      fill: #FFFFFF;\n",
              "    }\n",
              "  </style>\n",
              "\n",
              "    <script>\n",
              "      const buttonEl =\n",
              "        document.querySelector('#df-2f458eeb-4833-4ffd-b244-3fb8d412e92c button.colab-df-convert');\n",
              "      buttonEl.style.display =\n",
              "        google.colab.kernel.accessAllowed ? 'block' : 'none';\n",
              "\n",
              "      async function convertToInteractive(key) {\n",
              "        const element = document.querySelector('#df-2f458eeb-4833-4ffd-b244-3fb8d412e92c');\n",
              "        const dataTable =\n",
              "          await google.colab.kernel.invokeFunction('convertToInteractive',\n",
              "                                                    [key], {});\n",
              "        if (!dataTable) return;\n",
              "\n",
              "        const docLinkHtml = 'Like what you see? Visit the ' +\n",
              "          '<a target=\"_blank\" href=https://colab.research.google.com/notebooks/data_table.ipynb>data table notebook</a>'\n",
              "          + ' to learn more about interactive tables.';\n",
              "        element.innerHTML = '';\n",
              "        dataTable['output_type'] = 'display_data';\n",
              "        await google.colab.output.renderOutput(dataTable, element);\n",
              "        const docLink = document.createElement('div');\n",
              "        docLink.innerHTML = docLinkHtml;\n",
              "        element.appendChild(docLink);\n",
              "      }\n",
              "    </script>\n",
              "  </div>\n",
              "\n",
              "\n",
              "<div id=\"df-a2feb90c-7eae-4542-a3ed-ffa9cb81f496\">\n",
              "  <button class=\"colab-df-quickchart\" onclick=\"quickchart('df-a2feb90c-7eae-4542-a3ed-ffa9cb81f496')\"\n",
              "            title=\"Suggest charts\"\n",
              "            style=\"display:none;\">\n",
              "\n",
              "<svg xmlns=\"http://www.w3.org/2000/svg\" height=\"24px\"viewBox=\"0 0 24 24\"\n",
              "     width=\"24px\">\n",
              "    <g>\n",
              "        <path d=\"M19 3H5c-1.1 0-2 .9-2 2v14c0 1.1.9 2 2 2h14c1.1 0 2-.9 2-2V5c0-1.1-.9-2-2-2zM9 17H7v-7h2v7zm4 0h-2V7h2v10zm4 0h-2v-4h2v4z\"/>\n",
              "    </g>\n",
              "</svg>\n",
              "  </button>\n",
              "\n",
              "<style>\n",
              "  .colab-df-quickchart {\n",
              "      --bg-color: #E8F0FE;\n",
              "      --fill-color: #1967D2;\n",
              "      --hover-bg-color: #E2EBFA;\n",
              "      --hover-fill-color: #174EA6;\n",
              "      --disabled-fill-color: #AAA;\n",
              "      --disabled-bg-color: #DDD;\n",
              "  }\n",
              "\n",
              "  [theme=dark] .colab-df-quickchart {\n",
              "      --bg-color: #3B4455;\n",
              "      --fill-color: #D2E3FC;\n",
              "      --hover-bg-color: #434B5C;\n",
              "      --hover-fill-color: #FFFFFF;\n",
              "      --disabled-bg-color: #3B4455;\n",
              "      --disabled-fill-color: #666;\n",
              "  }\n",
              "\n",
              "  .colab-df-quickchart {\n",
              "    background-color: var(--bg-color);\n",
              "    border: none;\n",
              "    border-radius: 50%;\n",
              "    cursor: pointer;\n",
              "    display: none;\n",
              "    fill: var(--fill-color);\n",
              "    height: 32px;\n",
              "    padding: 0;\n",
              "    width: 32px;\n",
              "  }\n",
              "\n",
              "  .colab-df-quickchart:hover {\n",
              "    background-color: var(--hover-bg-color);\n",
              "    box-shadow: 0 1px 2px rgba(60, 64, 67, 0.3), 0 1px 3px 1px rgba(60, 64, 67, 0.15);\n",
              "    fill: var(--button-hover-fill-color);\n",
              "  }\n",
              "\n",
              "  .colab-df-quickchart-complete:disabled,\n",
              "  .colab-df-quickchart-complete:disabled:hover {\n",
              "    background-color: var(--disabled-bg-color);\n",
              "    fill: var(--disabled-fill-color);\n",
              "    box-shadow: none;\n",
              "  }\n",
              "\n",
              "  .colab-df-spinner {\n",
              "    border: 2px solid var(--fill-color);\n",
              "    border-color: transparent;\n",
              "    border-bottom-color: var(--fill-color);\n",
              "    animation:\n",
              "      spin 1s steps(1) infinite;\n",
              "  }\n",
              "\n",
              "  @keyframes spin {\n",
              "    0% {\n",
              "      border-color: transparent;\n",
              "      border-bottom-color: var(--fill-color);\n",
              "      border-left-color: var(--fill-color);\n",
              "    }\n",
              "    20% {\n",
              "      border-color: transparent;\n",
              "      border-left-color: var(--fill-color);\n",
              "      border-top-color: var(--fill-color);\n",
              "    }\n",
              "    30% {\n",
              "      border-color: transparent;\n",
              "      border-left-color: var(--fill-color);\n",
              "      border-top-color: var(--fill-color);\n",
              "      border-right-color: var(--fill-color);\n",
              "    }\n",
              "    40% {\n",
              "      border-color: transparent;\n",
              "      border-right-color: var(--fill-color);\n",
              "      border-top-color: var(--fill-color);\n",
              "    }\n",
              "    60% {\n",
              "      border-color: transparent;\n",
              "      border-right-color: var(--fill-color);\n",
              "    }\n",
              "    80% {\n",
              "      border-color: transparent;\n",
              "      border-right-color: var(--fill-color);\n",
              "      border-bottom-color: var(--fill-color);\n",
              "    }\n",
              "    90% {\n",
              "      border-color: transparent;\n",
              "      border-bottom-color: var(--fill-color);\n",
              "    }\n",
              "  }\n",
              "</style>\n",
              "\n",
              "  <script>\n",
              "    async function quickchart(key) {\n",
              "      const quickchartButtonEl =\n",
              "        document.querySelector('#' + key + ' button');\n",
              "      quickchartButtonEl.disabled = true;  // To prevent multiple clicks.\n",
              "      quickchartButtonEl.classList.add('colab-df-spinner');\n",
              "      try {\n",
              "        const charts = await google.colab.kernel.invokeFunction(\n",
              "            'suggestCharts', [key], {});\n",
              "      } catch (error) {\n",
              "        console.error('Error during call to suggestCharts:', error);\n",
              "      }\n",
              "      quickchartButtonEl.classList.remove('colab-df-spinner');\n",
              "      quickchartButtonEl.classList.add('colab-df-quickchart-complete');\n",
              "    }\n",
              "    (() => {\n",
              "      let quickchartButtonEl =\n",
              "        document.querySelector('#df-a2feb90c-7eae-4542-a3ed-ffa9cb81f496 button');\n",
              "      quickchartButtonEl.style.display =\n",
              "        google.colab.kernel.accessAllowed ? 'block' : 'none';\n",
              "    })();\n",
              "  </script>\n",
              "</div>\n",
              "    </div>\n",
              "  </div>\n"
            ],
            "application/vnd.google.colaboratory.intrinsic+json": {
              "type": "dataframe",
              "variable_name": "df",
              "summary": "{\n  \"name\": \"df\",\n  \"rows\": 40432,\n  \"fields\": [\n    {\n      \"column\": \"category\",\n      \"properties\": {\n        \"dtype\": \"category\",\n        \"num_unique_values\": 10,\n        \"samples\": [\n          \"Toys_and_Games_5\",\n          \"Sports_and_Outdoors_5\",\n          \"Pet_Supplies_5\"\n        ],\n        \"semantic_type\": \"\",\n        \"description\": \"\"\n      }\n    },\n    {\n      \"column\": \"rating\",\n      \"properties\": {\n        \"dtype\": \"number\",\n        \"std\": 1.1443539194684895,\n        \"min\": 1.0,\n        \"max\": 5.0,\n        \"num_unique_values\": 5,\n        \"samples\": [\n          1.0,\n          4.0,\n          3.0\n        ],\n        \"semantic_type\": \"\",\n        \"description\": \"\"\n      }\n    },\n    {\n      \"column\": \"label\",\n      \"properties\": {\n        \"dtype\": \"category\",\n        \"num_unique_values\": 2,\n        \"samples\": [\n          \"OR\",\n          \"CG\"\n        ],\n        \"semantic_type\": \"\",\n        \"description\": \"\"\n      }\n    },\n    {\n      \"column\": \"text_\",\n      \"properties\": {\n        \"dtype\": \"string\",\n        \"num_unique_values\": 40412,\n        \"samples\": [\n          \"It works well with my old ones, as long as you keep your hands on the handle and the other two fingers on the front of the switch.\",\n          \"I've not played the adult version of Cashflow so can't make a comparison but this game does a good job of teaching a basic tenet from the Rich Dad series: amass sources of passive income!  I bought this to play with my six year old because he's very interested in money and investing.  I thought this might be a good introduction to some basic concepts - and I believe it is a good introduction.  The instructions are not great, good enough but not great.  The instructions describe that you become a winner when your passive income exceeds your expenses - but there isn't really a winner of the game.  Small nuance but each individual \\\"wins\\\" by having passive income exceed expenses but the instructions don't state the first one to get there wins.\\n\\nEach player gets a \\\"financial statement\\\" as their game card.  During play, each player gains passive income sources and expenses.  The players keep track of their passive income vs expenses on the financial statement.  When your passive income exceeds expenses... you win!  The game does a good job of reinforcing this concept and also does a good job providing examples of passive income sources (rental property, owning a business, etc.).  It's at a pretty basic level so understandable for kids; even my six year old understands the game well enough to be able to formulate a strategy or predict what he needs on the next turn in order to win.\\n\\nWould recommend as a basic concept teaching tool.  And it's a fun game, too!\"\n        ],\n        \"semantic_type\": \"\",\n        \"description\": \"\"\n      }\n    }\n  ]\n}"
            }
          },
          "metadata": {},
          "execution_count": 100
        }
      ]
    },
    {
      "cell_type": "code",
      "source": [
        "df['length'] = df['text_'].apply(len)"
      ],
      "metadata": {
        "id": "zb7WuQLhfCjW"
      },
      "execution_count": 101,
      "outputs": []
    },
    {
      "cell_type": "code",
      "source": [
        "plt.hist(\n",
        "    df['length'],\n",
        "    bins=100\n",
        ")\n",
        "\n",
        "plt.xlabel('Character Length')  # Set the label for the x-axis\n",
        "plt.ylabel('Amount of Reviews')  # Set the label for the y-axis\n",
        "plt.title('Character lengths of reviews')\n",
        "\n",
        "plt.show()"
      ],
      "metadata": {
        "colab": {
          "base_uri": "https://localhost:8080/",
          "height": 472
        },
        "id": "IEpWwWXidjR0",
        "outputId": "e74b4f52-e492-4bc1-dfd6-505d2f9e9b05"
      },
      "execution_count": 102,
      "outputs": [
        {
          "output_type": "display_data",
          "data": {
            "text/plain": [
              "<Figure size 640x480 with 1 Axes>"
            ],
            "image/png": "[encoded data removed]"
          },
          "metadata": {}
        }
      ]
    },
    {
      "cell_type": "markdown",
      "source": [
        "## CountVectorizer\n",
        "**CountVectorizer** is a class in scikit-learn that converts a collection of text documents into a matrix of token counts. This is a simple but effective method to transform text into a format that can be utilized by machine learning algorithms. Each entry in the matrix indicates the frequency of a token (e.g., a word or a phrase) appearing in a specific document. This process is known as tokenization and it enables algorithms to process and analyze text data.\n",
        "\n",
        "**Key Features of CountVectorizer**:\n",
        "- Tokenization: Splits the text into individual tokens (usually words).\n",
        "- Vocabulary building: Determines the vocabulary of the dataset (all unique tokens).\n",
        "- Encoding: Assigns a numeric value (index) to each item in the vocabulary.\n",
        "- Counting: Counts the occurrences of each token in each document."
      ],
      "metadata": {
        "id": "jMLKM6-pc0wc"
      }
    },
    {
      "cell_type": "code",
      "source": [
        "def text_process(review):\n",
        "    nopunc = [char for char in review if char not in string.punctuation]\n",
        "    nopunc = ''.join(nopunc)\n",
        "    return [word for word in nopunc.split() if word.lower() not in stopwords.words('english')]"
      ],
      "metadata": {
        "id": "KDlgsh2ncN35"
      },
      "execution_count": 103,
      "outputs": []
    },
    {
      "cell_type": "markdown",
      "source": [
        "# Bag of Words (BoW) Model\n",
        "**\"BoW\"** stands for **\"Bag of Words\"** a fundamental concept in natural language processing (NLP) and text analysis. The Bag of Words model is a way of extracting features from text for use in modeling, such as with machine learning algorithms. The idea is simple yet powerful: represent text data as a collection (or \"bag\") of words without considering grammar or word order but maintaining multiplicity (the number of times each word appears)."
      ],
      "metadata": {
        "id": "TNCveYaWggaG"
      }
    },
    {
      "cell_type": "code",
      "source": [
        "bow_transformer = CountVectorizer(analyzer=text_process)\n",
        "bow_transformer"
      ],
      "metadata": {
        "colab": {
          "base_uri": "https://localhost:8080/",
          "height": 75
        },
        "id": "VlZ8S6wygTkb",
        "outputId": "110cbc7e-5434-4930-b862-0f3ca464a9d4"
      },
      "execution_count": 104,
      "outputs": [
        {
          "output_type": "execute_result",
          "data": {
            "text/plain": [
              "CountVectorizer(analyzer=<function text_process at 0x7afac838a170>)"
            ],
            "text/html": [
              "<style>#sk-container-id-4 {color: black;background-color: white;}#sk-container-id-4 pre{padding: 0;}#sk-container-id-4 div.sk-toggleable {background-color: white;}#sk-container-id-4 label.sk-toggleable__label {cursor: pointer;display: block;width: 100%;margin-bottom: 0;padding: 0.3em;box-sizing: border-box;text-align: center;}#sk-container-id-4 label.sk-toggleable__label-arrow:before {content: \"▸\";float: left;margin-right: 0.25em;color: #696969;}#sk-container-id-4 label.sk-toggleable__label-arrow:hover:before {color: black;}#sk-container-id-4 div.sk-estimator:hover label.sk-toggleable__label-arrow:before {color: black;}#sk-container-id-4 div.sk-toggleable__content {max-height: 0;max-width: 0;overflow: hidden;text-align: left;background-color: #f0f8ff;}#sk-container-id-4 div.sk-toggleable__content pre {margin: 0.2em;color: black;border-radius: 0.25em;background-color: #f0f8ff;}#sk-container-id-4 input.sk-toggleable__control:checked~div.sk-toggleable__content {max-height: 200px;max-width: 100%;overflow: auto;}#sk-container-id-4 input.sk-toggleable__control:checked~label.sk-toggleable__label-arrow:before {content: \"▾\";}#sk-container-id-4 div.sk-estimator input.sk-toggleable__control:checked~label.sk-toggleable__label {background-color: #d4ebff;}#sk-container-id-4 div.sk-label input.sk-toggleable__control:checked~label.sk-toggleable__label {background-color: #d4ebff;}#sk-container-id-4 input.sk-hidden--visually {border: 0;clip: rect(1px 1px 1px 1px);clip: rect(1px, 1px, 1px, 1px);height: 1px;margin: -1px;overflow: hidden;padding: 0;position: absolute;width: 1px;}#sk-container-id-4 div.sk-estimator {font-family: monospace;background-color: #f0f8ff;border: 1px dotted black;border-radius: 0.25em;box-sizing: border-box;margin-bottom: 0.5em;}#sk-container-id-4 div.sk-estimator:hover {background-color: #d4ebff;}#sk-container-id-4 div.sk-parallel-item::after {content: \"\";width: 100%;border-bottom: 1px solid gray;flex-grow: 1;}#sk-container-id-4 div.sk-label:hover label.sk-toggleable__label {background-color: #d4ebff;}#sk-container-id-4 div.sk-serial::before {content: \"\";position: absolute;border-left: 1px solid gray;box-sizing: border-box;top: 0;bottom: 0;left: 50%;z-index: 0;}#sk-container-id-4 div.sk-serial {display: flex;flex-direction: column;align-items: center;background-color: white;padding-right: 0.2em;padding-left: 0.2em;position: relative;}#sk-container-id-4 div.sk-item {position: relative;z-index: 1;}#sk-container-id-4 div.sk-parallel {display: flex;align-items: stretch;justify-content: center;background-color: white;position: relative;}#sk-container-id-4 div.sk-item::before, #sk-container-id-4 div.sk-parallel-item::before {content: \"\";position: absolute;border-left: 1px solid gray;box-sizing: border-box;top: 0;bottom: 0;left: 50%;z-index: -1;}#sk-container-id-4 div.sk-parallel-item {display: flex;flex-direction: column;z-index: 1;position: relative;background-color: white;}#sk-container-id-4 div.sk-parallel-item:first-child::after {align-self: flex-end;width: 50%;}#sk-container-id-4 div.sk-parallel-item:last-child::after {align-self: flex-start;width: 50%;}#sk-container-id-4 div.sk-parallel-item:only-child::after {width: 0;}#sk-container-id-4 div.sk-dashed-wrapped {border: 1px dashed gray;margin: 0 0.4em 0.5em 0.4em;box-sizing: border-box;padding-bottom: 0.4em;background-color: white;}#sk-container-id-4 div.sk-label label {font-family: monospace;font-weight: bold;display: inline-block;line-height: 1.2em;}#sk-container-id-4 div.sk-label-container {text-align: center;}#sk-container-id-4 div.sk-container {/* jupyter's `normalize.less` sets `[hidden] { display: none; }` but bootstrap.min.css set `[hidden] { display: none !important; }` so we also need the `!important` here to be able to override the default hidden behavior on the sphinx rendered scikit-learn.org. See: https://github.com/scikit-learn/scikit-learn/issues/21755 */display: inline-block !important;position: relative;}#sk-container-id-4 div.sk-text-repr-fallback {display: none;}</style><div id=\"sk-container-id-4\" class=\"sk-top-container\"><div class=\"sk-text-repr-fallback\"><pre>CountVectorizer(analyzer=&lt;function text_process at 0x7afac838a170&gt;)</pre><b>In a Jupyter environment, please rerun this cell to show the HTML representation or trust the notebook. <br />On GitHub, the HTML representation is unable to render, please try loading this page with nbviewer.org.</b></div><div class=\"sk-container\" hidden><div class=\"sk-item\"><div class=\"sk-estimator sk-toggleable\"><input class=\"sk-toggleable__control sk-hidden--visually\" id=\"sk-estimator-id-7\" type=\"checkbox\" checked><label for=\"sk-estimator-id-7\" class=\"sk-toggleable__label sk-toggleable__label-arrow\">CountVectorizer</label><div class=\"sk-toggleable__content\"><pre>CountVectorizer(analyzer=&lt;function text_process at 0x7afac838a170&gt;)</pre></div></div></div></div></div>"
            ]
          },
          "metadata": {},
          "execution_count": 104
        }
      ]
    },
    {
      "cell_type": "code",
      "source": [
        "bow_transformer.fit(df['text_'])\n",
        "print(\"Total Vocabulary:\" , len(bow_transformer.vocabulary_))"
      ],
      "metadata": {
        "colab": {
          "base_uri": "https://localhost:8080/"
        },
        "id": "VvCIu5qcg1Zf",
        "outputId": "250e089a-07ef-4403-f2da-7ab7c5dace90"
      },
      "execution_count": 105,
      "outputs": [
        {
          "output_type": "stream",
          "name": "stdout",
          "text": [
            "Total Vocabulary: 61612\n"
          ]
        }
      ]
    },
    {
      "cell_type": "code",
      "source": [
        "review2 = df['text_'][1]\n",
        "review2"
      ],
      "metadata": {
        "colab": {
          "base_uri": "https://localhost:8080/",
          "height": 35
        },
        "id": "0F8NKdsUiyzy",
        "outputId": "eece3f46-b89f-4a39-88f5-b102165490ec"
      },
      "execution_count": 106,
      "outputs": [
        {
          "output_type": "execute_result",
          "data": {
            "text/plain": [
              "\"love it, a great upgrade from the original.  I've had mine for a couple of years\""
            ],
            "application/vnd.google.colaboratory.intrinsic+json": {
              "type": "string"
            }
          },
          "metadata": {},
          "execution_count": 106
        }
      ]
    },
    {
      "cell_type": "code",
      "source": [
        "bow_review_2 = bow_transformer.transform([review2])\n",
        "print(bow_review_2)\n",
        "print(bow_review_2.shape)"
      ],
      "metadata": {
        "colab": {
          "base_uri": "https://localhost:8080/"
        },
        "id": "lk8rzMu8i5_Z",
        "outputId": "80653e0a-d2f5-4855-da6c-9512082a93f7"
      },
      "execution_count": 107,
      "outputs": [
        {
          "output_type": "stream",
          "name": "stdout",
          "text": [
            "  (0, 12324)\t1\n",
            "  (0, 31590)\t1\n",
            "  (0, 38385)\t1\n",
            "  (0, 43408)\t1\n",
            "  (0, 44574)\t1\n",
            "  (0, 46810)\t1\n",
            "  (0, 59313)\t1\n",
            "  (0, 61421)\t1\n",
            "(1, 61612)\n"
          ]
        }
      ]
    },
    {
      "cell_type": "code",
      "source": [
        "bow_reviews = bow_transformer.transform(df['text_'])"
      ],
      "metadata": {
        "id": "CjLXpW1fmeGr"
      },
      "execution_count": 108,
      "outputs": []
    },
    {
      "cell_type": "markdown",
      "source": [
        "# What is a Sparse Matrix?\n",
        "Imagine a huge grid or table, where each cell can hold a number. If most of these cells are empty (meaning they have a zero value), then this grid is what we call \"sparse.\" A sparse matrix is precisely this: a matrix with most of its elements being zero.\n",
        "\n",
        "Contrast this with a \"dense matrix,\" where most of the elements are non-zero. Dense matrices are what people usually picture when they think of matrices.\n",
        "\n",
        "# Why Use Sparse Matrices?\n",
        "Sparse matrices are especially useful because storing and processing all those zeros in a dense format is highly inefficient. They allow us to save a lot of memory and computational resources by only storing information about the non-zero elements.\n",
        "\n",
        "# How Sparse Matrices Work\n",
        "A sparse matrix doesn't store zero values. Instead, it stores the location (the row and column) and the value of non-zero elements. There are several ways to represent sparse matrices, but here are two common ones:\n",
        "\n",
        "Coordinate List (COO): This format stores a list of (row, column, value) tuples. It's great for when you're building a matrix and efficiency in adding elements is required.\n",
        "Compressed Sparse Row (CSR) or Column (CSC): These formats are similar in that they compress the data to save space. CSR focuses on saving rows efficiently, while CSC focuses on columns. They're better for fast arithmetic, slicing, and matrix-vector operations.\n",
        "# Sparse Matrices in NLP\n",
        "In the context of NLP and text mining, when you transform text documents into numerical representations using models like Bag of Words (BoW), you end up with a very large matrix. Each row of the matrix represents a document, and each column represents a unique word from the corpus. The value in each cell shows the presence (or frequency) of the word in the document.\n",
        "\n",
        "Given the vast number of words in a language, most documents only use a tiny subset of the language. Thus, most of the matrix cells will be zero, indicating the absence of most words in most documents. This is why sparse matrices are ideal for text data.\n",
        "\n",
        "Example\n",
        "Consider you have 1,000 documents and a vocabulary of 10,000 unique words. Each document might only use, say, 100 of those words. If you were to store this information in a dense matrix, you'd need space for 10,000,000 values (1,000 documents × 10,000 words). However, since each document only uses 100 words, you'd really only need to store 100,000 non-zero values (1,000 documents × 100 words/document). Sparse matrices make this efficiency possible."
      ],
      "metadata": {
        "id": "HeW4vuabmS7e"
      }
    },
    {
      "cell_type": "markdown",
      "source": [
        "# Understanding the Components\n",
        "**bow_reviews**: This is your sparse matrix, resulting from transforming text data into a Bag of Words (BoW) format using CountVectorizer. Each row represents a document, and each column represents a unique word in vocabulary. The non-zero values in this matrix indicate the presence or frequency of the corresponding word in the respective document.\n",
        "\n",
        "**bow_reviews.nnz**: The **.nnz** attribute of a sparse matrix returns the **Number of Non-Zero elements** present in the matrix. This gives you the total count of all entries in the matrix that are not zero.\n",
        "\n",
        "**bow_reviews.shape**: The .shape attribute returns a tuple representing the **dimensions of the matrix** (number of rows, number of columns). In the context of bow_reviews, the number of rows corresponds to the number of documents, and the number of columns corresponds to the size of the vocabulary.\n",
        "\n",
        "**bow_reviews.shape[0]**: This accesses the first element of the shape tuple, giving you the **number of rows (documents) in the matrix**.\n",
        "\n",
        "**bow_reviews.shape[1]**: This accesses the second element of the shape tuple, giving you the number of **columns (unique words) in the matrix**.\n",
        "\n",
        "# Calculating Sparsity\n",
        "\n",
        "- **bow_reviews.shape[0]** * **bow_reviews.shape[1]**): Multiplies the number of documents by the number of unique words to find the **total number of possible entries in the matrix**.\n",
        "\n",
        "- **bow_reviews.nnz** / (**bow_reviews.shape[0]** * **bow_reviews.shape[1]**): Divides the number of non-zero entries by the total number of possible entries to find the **proportion of entries that are non-zero**.\n",
        "\n",
        "- **Multiplying by 100**: Converts the **proportion to a percentage**.\n",
        "\n",
        "- **np.round(..., 2)**: **Rounds the resulting percentage to two decimal places** for readability. This rounding is done using NumPy's round function.\n",
        "\n",
        "The Concept of Sparsity\n",
        "Sparsity indicates how \"empty\" a matrix is. A high sparsity percentage means that the matrix has fewer non-zero elements, i.e., it is mostly empty. This is typical for text data in BoW representations, where most words in the vocabulary are not used in most documents."
      ],
      "metadata": {
        "id": "Pzc5Bxd4m1k9"
      }
    },
    {
      "cell_type": "code",
      "source": [
        "print(\"Sparsity:\",np.round((bow_reviews.nnz/(bow_reviews.shape[0]*bow_reviews.shape[1]))*100,2))"
      ],
      "metadata": {
        "colab": {
          "base_uri": "https://localhost:8080/"
        },
        "id": "c1uHQCkRmSHT",
        "outputId": "e5bf6f3f-d144-4c48-98ca-22571146a106"
      },
      "execution_count": 109,
      "outputs": [
        {
          "output_type": "stream",
          "name": "stdout",
          "text": [
            "Sparsity: 0.04\n"
          ]
        }
      ]
    },
    {
      "cell_type": "markdown",
      "source": [
        "# Why Use TF-IDF?\n",
        "TF-IDF is valuable because it balances the frequency of terms within documents against their frequency across the entire corpus of documents. This helps in highlighting the importance of words within documents in a way that's more informative than mere term frequencies. For instance, words that are common in a particular document but rare across other documents tend to have higher TF-IDF scores, making them potentially more relevant for analysis or for use in machine learning models.\n",
        "\n",
        "# Components of the Code\n",
        "TfidfTransformer: This is a class from scikit-learn's feature_extraction.text module. The TfidfTransformer is designed to transform a count matrix (like the one produced by CountVectorizer, which counts occurrences of words) into a TF-IDF representation.\n",
        "\n",
        "- **TF (Term Frequency)**: This measures how frequently a term occurs in a document. Since every document is of different length, it is possible that a term would appear much more times in long documents than shorter ones. Thus, the term frequency is often divided by the document length (aka the total number of terms in the document) as a way of normalization.\n",
        "\n",
        "- **IDF (Inverse Document Frequency)**: This measures how important a term is. While computing TF, all terms are considered equally important. However, certain terms, like \"is\", \"of\", and \"that\", may appear a lot of times but have little importance. Thus, we need to weigh down the frequent terms while scale up the rare ones, by computing the IDF, which diminishes the weight of terms that occur very frequently in the document set and increases the weight of terms that occur rarely.\n",
        "\n",
        "- **.fit(bow_reviews)**: This method fits the TF-IDF transformer to the Bag of Words (BoW) matrix bow_reviews. By fitting the transformer to your data, it learns the IDF (Inverse Document Frequency) weights for all words in your corpus (the collection of documents). Essentially, it's preparing the transformer by calculating the necessary statistics (like the IDF) from your BoW matrix."
      ],
      "metadata": {
        "id": "7jAdXwNupA1v"
      }
    },
    {
      "cell_type": "code",
      "source": [
        "tfidf_transformer = TfidfTransformer().fit(bow_reviews)\n",
        "tfidf_review_2 = tfidf_transformer.transform(bow_review_2)\n",
        "tfidf_review_2"
      ],
      "metadata": {
        "colab": {
          "base_uri": "https://localhost:8080/"
        },
        "id": "e6AXgDhhog0P",
        "outputId": "343ee415-6a84-4ddf-936f-85b9f991fe98"
      },
      "execution_count": 110,
      "outputs": [
        {
          "output_type": "execute_result",
          "data": {
            "text/plain": [
              "<1x61612 sparse matrix of type '<class 'numpy.float64'>'\n",
              "\twith 8 stored elements in Compressed Sparse Row format>"
            ]
          },
          "metadata": {},
          "execution_count": 110
        }
      ]
    },
    {
      "cell_type": "markdown",
      "source": [
        "The code below is printing the Inverse Document Frequency (IDF) scores for two specific words, \"apple\" and \"book\", from a TF-IDF model represented by tfidf_transformer. These IDF scores are part of the TF-IDF (Term Frequency-Inverse Document Frequency) weighting scheme, which is used to evaluate how important a word is to a document in a collection or corpus. Here’s what each part of the code and the output means:\n",
        "\n",
        "# Understanding the Components\n",
        "**tfidf_transformer**: This is an instance of TfidfTransformer, which we fitted to the dataset (bow_reviews). It has calculated the IDF scores for all the words in the vocabulary of the dataset. The IDF score represents the importance of a word; higher scores indicate words that are rare across documents, while lower scores indicate words that are common.\n",
        "\n",
        "**bow_transformer.vocabulary_**: This is the vocabulary learned by CountVectorizer instance (bow_transformer). It's a dictionary mapping word names to column indices.\n",
        "\n",
        "**bow_transformer.vocabulary_['apple']**: This retrieves the column index for the word \"mango\" in the BoW vocabulary.\n",
        "\n",
        "**bow_transformer.vocabulary_['book']**: Similarly, this retrieves the column index for the word \"book\".\n",
        "\n",
        "**tfidf_transformer.idf_**: This attribute of the TfidfTransformer holds the array of computed IDF scores for every word in the vocabulary. Accessing this array at the index of a specific word gives you the IDF score for that word.\n",
        "\n",
        "# The Printed Outputs\n",
        "8.311564696202637: The IDF score for \"apple\". A high IDF score for \"apple\" suggests that \"apple\" is a relatively rare word across the documents in the corpus. It appears in fewer documents, so when it does appear, it's considered more significant for the meaning of the document.\n",
        "\n",
        "2.9117275133827123: The IDF score for \"book\". A lower IDF score for \"book\" indicates that it's a more common word across the documents. It appears in more documents, making it less unique and therefore less significant in distinguishing one document from another in the corpus.\n",
        "\n",
        "# Interpretation\n",
        "The significant difference in IDF scores between \"apple\" and \"book\" suggests that \"book\" is a common term across your corpus, likely not very useful for distinguishing between documents since it appears frequently. On the other hand, \"apple\" is much rarer, making it potentially more valuable for identifying the specific content or topic of a document where it appears.\n",
        "\n",
        "This concept is at the heart of TF-IDF: balancing the frequency of words within documents (Term Frequency) against their frequency across all documents (Document Frequency) to identify words that are particularly indicative of the content of each document."
      ],
      "metadata": {
        "id": "kmmZSiFEq2QU"
      }
    },
    {
      "cell_type": "code",
      "source": [
        "print(tfidf_transformer.idf_[bow_transformer.vocabulary_['apple']])\n",
        "print(tfidf_transformer.idf_[bow_transformer.vocabulary_['book']])"
      ],
      "metadata": {
        "colab": {
          "base_uri": "https://localhost:8080/"
        },
        "id": "qI_0EJWhqYwj",
        "outputId": "cdcb077f-9bac-4b47-87f8-f1886ed683f5"
      },
      "execution_count": 111,
      "outputs": [
        {
          "output_type": "stream",
          "name": "stdout",
          "text": [
            "8.311564696202637\n",
            "2.9117275133827123\n"
          ]
        }
      ]
    },
    {
      "cell_type": "code",
      "source": [
        "tfidf_reviews = tfidf_transformer.transform(bow_reviews)\n",
        "print(\"Shape:\",tfidf_reviews.shape)\n",
        "print(\"No. of Dimensions:\",tfidf_reviews.ndim)"
      ],
      "metadata": {
        "colab": {
          "base_uri": "https://localhost:8080/"
        },
        "id": "dPtOIhu6sUlz",
        "outputId": "a3d0c42e-d16a-412b-f1c5-008789c44fb2"
      },
      "execution_count": 112,
      "outputs": [
        {
          "output_type": "stream",
          "name": "stdout",
          "text": [
            "Shape: (40432, 61612)\n",
            "No. of Dimensions: 2\n"
          ]
        }
      ]
    },
    {
      "cell_type": "markdown",
      "source": [
        "#Training and Testing"
      ],
      "metadata": {
        "id": "rAMAvmyxwFWs"
      }
    },
    {
      "cell_type": "code",
      "source": [
        "review_train, review_test, label_train, label_test = train_test_split(df['text_'],df['label'],test_size=0.3)"
      ],
      "metadata": {
        "id": "oQ4zLvjOwJvT"
      },
      "execution_count": 113,
      "outputs": []
    },
    {
      "cell_type": "markdown",
      "source": [
        "## Multinomial Naive Bayes Model\n",
        "\n"
      ],
      "metadata": {
        "id": "7E3lk6kw827L"
      }
    },
    {
      "cell_type": "markdown",
      "source": [
        "## 1. Pipeline Creation\n",
        "The Pipeline object is a utility from scikit-learn that allows you to chain together multiple processing steps into a single entity, which can then be used to fit, predict, or transform data. This approach simplifies the code and helps avoid mistakes, like leaking data from your training dataset into the preprocessing steps.\n",
        "\n",
        "## 2. Components of the Pipeline\n",
        "The pipeline consists of three main components, each represented as a tuple with two elements: a string name and an instance of a transformer or estimator.\n",
        "\n",
        "### ('bow', CountVectorizer(analyzer=text_process)):\n",
        "This is the first step in the pipeline, responsible for converting text documents into a \"bag-of-words\" model, which is a numerical representation where each document is described by the frequency of words that appear in it. The analyzer=text_process parameter specifies that a custom function text_process should be used for preprocessing the text before converting it into vectors. This function might perform operations like tokenization, stemming, or removing stopwords.\n",
        "\n",
        "### ('tfidf', TfidfTransformer()):\n",
        "The second step applies the Term Frequency-Inverse Document Frequency (TF-IDF) transformation to the output of the CountVectorizer. TF-IDF is a technique to quantify the importance of words in a document based on how frequently they appear across multiple documents. The rationale is that words that appear frequently in a document but not across documents are more significant.\n",
        "\n",
        "### ('classifier', MultinomialNB()):\n",
        "The final step in the pipeline is a classifier, specifically a Multinomial Naive Bayes classifier. This classifier is well-suited for classification problems involving discrete features (like word counts for text classification). It will be trained on the TF-IDF vectors to predict the target variable (e.g., the category of a text document).\n",
        "\n",
        "About Naive Bayes: https://www.youtube.com/watch?v=O2L2Uv9pdDA"
      ],
      "metadata": {
        "id": "RPLxNcZQw-V7"
      }
    },
    {
      "cell_type": "code",
      "source": [
        "pipeline = Pipeline([\n",
        "    ('bow',CountVectorizer(analyzer=text_process)),\n",
        "    ('tfidf',TfidfTransformer()),\n",
        "    ('classifier',MultinomialNB())\n",
        "])"
      ],
      "metadata": {
        "id": "DnMnRnCiwpFR"
      },
      "execution_count": 114,
      "outputs": []
    },
    {
      "cell_type": "code",
      "source": [
        "pipeline.fit(review_train,label_train)"
      ],
      "metadata": {
        "colab": {
          "base_uri": "https://localhost:8080/",
          "height": 161
        },
        "id": "4T234gOM1eJU",
        "outputId": "56ae88ca-3781-47fd-890c-7c9c8977db25"
      },
      "execution_count": 115,
      "outputs": [
        {
          "output_type": "execute_result",
          "data": {
            "text/plain": [
              "Pipeline(steps=[('bow',\n",
              "                 CountVectorizer(analyzer=<function text_process at 0x7afac838a170>)),\n",
              "                ('tfidf', TfidfTransformer()),\n",
              "                ('classifier', MultinomialNB())])"
            ],
            "text/html": [
              "<style>#sk-container-id-5 {color: black;background-color: white;}#sk-container-id-5 pre{padding: 0;}#sk-container-id-5 div.sk-toggleable {background-color: white;}#sk-container-id-5 label.sk-toggleable__label {cursor: pointer;display: block;width: 100%;margin-bottom: 0;padding: 0.3em;box-sizing: border-box;text-align: center;}#sk-container-id-5 label.sk-toggleable__label-arrow:before {content: \"▸\";float: left;margin-right: 0.25em;color: #696969;}#sk-container-id-5 label.sk-toggleable__label-arrow:hover:before {color: black;}#sk-container-id-5 div.sk-estimator:hover label.sk-toggleable__label-arrow:before {color: black;}#sk-container-id-5 div.sk-toggleable__content {max-height: 0;max-width: 0;overflow: hidden;text-align: left;background-color: #f0f8ff;}#sk-container-id-5 div.sk-toggleable__content pre {margin: 0.2em;color: black;border-radius: 0.25em;background-color: #f0f8ff;}#sk-container-id-5 input.sk-toggleable__control:checked~div.sk-toggleable__content {max-height: 200px;max-width: 100%;overflow: auto;}#sk-container-id-5 input.sk-toggleable__control:checked~label.sk-toggleable__label-arrow:before {content: \"▾\";}#sk-container-id-5 div.sk-estimator input.sk-toggleable__control:checked~label.sk-toggleable__label {background-color: #d4ebff;}#sk-container-id-5 div.sk-label input.sk-toggleable__control:checked~label.sk-toggleable__label {background-color: #d4ebff;}#sk-container-id-5 input.sk-hidden--visually {border: 0;clip: rect(1px 1px 1px 1px);clip: rect(1px, 1px, 1px, 1px);height: 1px;margin: -1px;overflow: hidden;padding: 0;position: absolute;width: 1px;}#sk-container-id-5 div.sk-estimator {font-family: monospace;background-color: #f0f8ff;border: 1px dotted black;border-radius: 0.25em;box-sizing: border-box;margin-bottom: 0.5em;}#sk-container-id-5 div.sk-estimator:hover {background-color: #d4ebff;}#sk-container-id-5 div.sk-parallel-item::after {content: \"\";width: 100%;border-bottom: 1px solid gray;flex-grow: 1;}#sk-container-id-5 div.sk-label:hover label.sk-toggleable__label {background-color: #d4ebff;}#sk-container-id-5 div.sk-serial::before {content: \"\";position: absolute;border-left: 1px solid gray;box-sizing: border-box;top: 0;bottom: 0;left: 50%;z-index: 0;}#sk-container-id-5 div.sk-serial {display: flex;flex-direction: column;align-items: center;background-color: white;padding-right: 0.2em;padding-left: 0.2em;position: relative;}#sk-container-id-5 div.sk-item {position: relative;z-index: 1;}#sk-container-id-5 div.sk-parallel {display: flex;align-items: stretch;justify-content: center;background-color: white;position: relative;}#sk-container-id-5 div.sk-item::before, #sk-container-id-5 div.sk-parallel-item::before {content: \"\";position: absolute;border-left: 1px solid gray;box-sizing: border-box;top: 0;bottom: 0;left: 50%;z-index: -1;}#sk-container-id-5 div.sk-parallel-item {display: flex;flex-direction: column;z-index: 1;position: relative;background-color: white;}#sk-container-id-5 div.sk-parallel-item:first-child::after {align-self: flex-end;width: 50%;}#sk-container-id-5 div.sk-parallel-item:last-child::after {align-self: flex-start;width: 50%;}#sk-container-id-5 div.sk-parallel-item:only-child::after {width: 0;}#sk-container-id-5 div.sk-dashed-wrapped {border: 1px dashed gray;margin: 0 0.4em 0.5em 0.4em;box-sizing: border-box;padding-bottom: 0.4em;background-color: white;}#sk-container-id-5 div.sk-label label {font-family: monospace;font-weight: bold;display: inline-block;line-height: 1.2em;}#sk-container-id-5 div.sk-label-container {text-align: center;}#sk-container-id-5 div.sk-container {/* jupyter's `normalize.less` sets `[hidden] { display: none; }` but bootstrap.min.css set `[hidden] { display: none !important; }` so we also need the `!important` here to be able to override the default hidden behavior on the sphinx rendered scikit-learn.org. See: https://github.com/scikit-learn/scikit-learn/issues/21755 */display: inline-block !important;position: relative;}#sk-container-id-5 div.sk-text-repr-fallback {display: none;}</style><div id=\"sk-container-id-5\" class=\"sk-top-container\"><div class=\"sk-text-repr-fallback\"><pre>Pipeline(steps=[(&#x27;bow&#x27;,\n",
              "                 CountVectorizer(analyzer=&lt;function text_process at 0x7afac838a170&gt;)),\n",
              "                (&#x27;tfidf&#x27;, TfidfTransformer()),\n",
              "                (&#x27;classifier&#x27;, MultinomialNB())])</pre><b>In a Jupyter environment, please rerun this cell to show the HTML representation or trust the notebook. <br />On GitHub, the HTML representation is unable to render, please try loading this page with nbviewer.org.</b></div><div class=\"sk-container\" hidden><div class=\"sk-item sk-dashed-wrapped\"><div class=\"sk-label-container\"><div class=\"sk-label sk-toggleable\"><input class=\"sk-toggleable__control sk-hidden--visually\" id=\"sk-estimator-id-8\" type=\"checkbox\" ><label for=\"sk-estimator-id-8\" class=\"sk-toggleable__label sk-toggleable__label-arrow\">Pipeline</label><div class=\"sk-toggleable__content\"><pre>Pipeline(steps=[(&#x27;bow&#x27;,\n",
              "                 CountVectorizer(analyzer=&lt;function text_process at 0x7afac838a170&gt;)),\n",
              "                (&#x27;tfidf&#x27;, TfidfTransformer()),\n",
              "                (&#x27;classifier&#x27;, MultinomialNB())])</pre></div></div></div><div class=\"sk-serial\"><div class=\"sk-item\"><div class=\"sk-estimator sk-toggleable\"><input class=\"sk-toggleable__control sk-hidden--visually\" id=\"sk-estimator-id-9\" type=\"checkbox\" ><label for=\"sk-estimator-id-9\" class=\"sk-toggleable__label sk-toggleable__label-arrow\">CountVectorizer</label><div class=\"sk-toggleable__content\"><pre>CountVectorizer(analyzer=&lt;function text_process at 0x7afac838a170&gt;)</pre></div></div></div><div class=\"sk-item\"><div class=\"sk-estimator sk-toggleable\"><input class=\"sk-toggleable__control sk-hidden--visually\" id=\"sk-estimator-id-10\" type=\"checkbox\" ><label for=\"sk-estimator-id-10\" class=\"sk-toggleable__label sk-toggleable__label-arrow\">TfidfTransformer</label><div class=\"sk-toggleable__content\"><pre>TfidfTransformer()</pre></div></div></div><div class=\"sk-item\"><div class=\"sk-estimator sk-toggleable\"><input class=\"sk-toggleable__control sk-hidden--visually\" id=\"sk-estimator-id-11\" type=\"checkbox\" ><label for=\"sk-estimator-id-11\" class=\"sk-toggleable__label sk-toggleable__label-arrow\">MultinomialNB</label><div class=\"sk-toggleable__content\"><pre>MultinomialNB()</pre></div></div></div></div></div></div></div>"
            ]
          },
          "metadata": {},
          "execution_count": 115
        }
      ]
    },
    {
      "cell_type": "code",
      "source": [
        "predictions = pipeline.predict(review_test)\n",
        "predictions"
      ],
      "metadata": {
        "colab": {
          "base_uri": "https://localhost:8080/"
        },
        "id": "qTkGN3-81h44",
        "outputId": "7ad3cd62-d903-4fd2-b4e4-ac55bb5b9b2b"
      },
      "execution_count": 116,
      "outputs": [
        {
          "output_type": "execute_result",
          "data": {
            "text/plain": [
              "array(['CG', 'CG', 'OR', ..., 'CG', 'CG', 'OR'], dtype='<U2')"
            ]
          },
          "metadata": {},
          "execution_count": 116
        }
      ]
    },
    {
      "cell_type": "code",
      "source": [
        "cm = confusion_matrix(label_test, predictions)\n",
        "\n",
        "# Plotting using seaborn for better visualization\n",
        "plt.figure(figsize=(10,7))\n",
        "sns.heatmap(cm, annot=True, fmt=\"d\", cmap=\"Blues\", xticklabels=['Real Review', 'Fake Review'], yticklabels=['Real Review', 'Fake Review'])\n",
        "plt.xlabel('Predicted')\n",
        "plt.ylabel('Actual')\n",
        "plt.title('Confusion Matrix')\n",
        "plt.show()\n",
        "\n",
        "true_positives = cm[0][0]\n",
        "false_positives = cm[0][1]\n",
        "\n",
        "true_negatives = cm[0][1]\n",
        "false_negatives = cm[1][0]\n",
        "\n",
        "print(f'True Positives: {true_positives}')\n",
        "print(f'False Positives (Identified real review as fake review): {false_positives}')\n"
      ],
      "metadata": {
        "colab": {
          "base_uri": "https://localhost:8080/",
          "height": 676
        },
        "id": "xVyUtHa_1p7d",
        "outputId": "abd150bb-9d19-4cd7-b95b-b57ae8ddcc11"
      },
      "execution_count": 117,
      "outputs": [
        {
          "output_type": "display_data",
          "data": {
            "text/plain": [
              "<Figure size 1000x700 with 2 Axes>"
            ],
            "image/png": "[encoded data removed]"
          },
          "metadata": {}
        },
        {
          "output_type": "stream",
          "name": "stdout",
          "text": [
            "True Positives: 5518\n",
            "False Positives (Identified real review as fake review): 474\n"
          ]
        }
      ]
    },
    {
      "cell_type": "code",
      "source": [
        "print('Accuracy Score:')\n",
        "accuracy_score(label_test,predictions)"
      ],
      "metadata": {
        "colab": {
          "base_uri": "https://localhost:8080/"
        },
        "id": "qPtS8_LG5dcq",
        "outputId": "57b28364-41b2-4247-d0dd-1395b9c51003"
      },
      "execution_count": 118,
      "outputs": [
        {
          "output_type": "stream",
          "name": "stdout",
          "text": [
            "Accuracy Score:\n"
          ]
        },
        {
          "output_type": "execute_result",
          "data": {
            "text/plain": [
              "0.8661170651277823"
            ]
          },
          "metadata": {},
          "execution_count": 118
        }
      ]
    },
    {
      "cell_type": "code",
      "source": [
        "# Example of a random review input\n",
        "example_amazon_review_1 = [\"\"\"I am 5ft 8, and not slim, but we have a couple of extended family gatherings which means a dress but summer in MN can be very humid and hot!! So thought I d try a maxi dress, I received and fit was very nice. fabric is machine washable so i did that with cold water and a few minutes in the dryer to remove wrinkles\n",
        "then finished with a line dry outside. no change in size. fabric is very soft I received compliments. I will be looking for another dress for the next wedding.\"\"\"]\n",
        "example_amazon_review_2 = [\"\"\"Amazing dress for the price, soft, comfortable, light weight, tinsy but long but nothing a short heel can't fix when out and about. 5'4\" ordered 2xl solid color and flattering to curves, drapes well\n",
        "\"\"\"]\n",
        "example_amazon_review_3 = [\"\"\"Fabric so soft. Easy to put on. Quality and instructions on care were included. I feel pretty and comfortable wearing this. It can be casual or dressed up. Even can consider this a lovely nightgown or lounging dress . Multiple ways you can wear and add this to your closet. Makes a great gift, Don't hesitate. A great purchase.\n",
        "\"\"\"]\n",
        "\n",
        "# Using the pipeline to predict the sentiment of the new review\n",
        "# Make sure to wrap the new_review in a list if it's a single string\n",
        "print(pipeline.predict(example_amazon_review_1))\n",
        "print(pipeline.predict(example_amazon_review_2))\n",
        "print(pipeline.predict(example_amazon_review_3))\n",
        "\n"
      ],
      "metadata": {
        "colab": {
          "base_uri": "https://localhost:8080/"
        },
        "id": "_k8Hcrpd-mGN",
        "outputId": "2ea4eb3c-ea87-4d08-bb77-f54fb1ff9d4e"
      },
      "execution_count": 119,
      "outputs": [
        {
          "output_type": "stream",
          "name": "stdout",
          "text": [
            "['OR']\n",
            "['CG']\n",
            "['OR']\n"
          ]
        }
      ]
    },
    {
      "cell_type": "markdown",
      "source": [
        "## Logistic Regression Model"
      ],
      "metadata": {
        "id": "l4_gOUqA8emn"
      }
    },
    {
      "cell_type": "code",
      "source": [
        "pipeline_logistic_regression = Pipeline([\n",
        "    ('bow',CountVectorizer(analyzer=text_process)),\n",
        "    ('tfidf',TfidfTransformer()),\n",
        "    ('classifier',LogisticRegression())\n",
        "])\n",
        "pipeline_logistic_regression.fit(review_train,label_train)\n",
        "lr_pred = pipeline_logistic_regression.predict(review_test)\n",
        "lr_pred"
      ],
      "metadata": {
        "colab": {
          "base_uri": "https://localhost:8080/"
        },
        "id": "Bqqc-bWz5_fG",
        "outputId": "c97cb09f-dc6b-4c6e-f381-4d1c93a7aea0"
      },
      "execution_count": 82,
      "outputs": [
        {
          "output_type": "execute_result",
          "data": {
            "text/plain": [
              "array(['CG', 'OR', 'OR', ..., 'OR', 'CG', 'CG'], dtype=object)"
            ]
          },
          "metadata": {},
          "execution_count": 82
        }
      ]
    },
    {
      "cell_type": "code",
      "source": [
        "cm = confusion_matrix(label_test, lr_pred)\n",
        "\n",
        "# Plotting using seaborn for better visualization\n",
        "plt.figure(figsize=(10,7))\n",
        "sns.heatmap(cm, annot=True, fmt=\"d\", cmap=\"Blues\", xticklabels=['Real Review', 'Fake Review'], yticklabels=['Real Review', 'Fake Review'])\n",
        "plt.xlabel('Predicted')\n",
        "plt.ylabel('Actual')\n",
        "plt.title('Confusion Matrix')\n",
        "plt.show()\n",
        "\n",
        "true_positives = cm[0][0]\n",
        "false_positives = cm[0][1]\n",
        "\n",
        "true_negatives = cm[0][1]\n",
        "false_negatives = cm[1][0]\n",
        "\n",
        "print(f'True Positives: {true_positives}')\n",
        "print(f'False Negatives (Identified real review as fake review): {false_positives}')"
      ],
      "metadata": {
        "colab": {
          "base_uri": "https://localhost:8080/",
          "height": 676
        },
        "id": "bgWBZHRa6KvJ",
        "outputId": "49525a5d-9214-4b61-879f-9be3db1ae431"
      },
      "execution_count": 85,
      "outputs": [
        {
          "output_type": "display_data",
          "data": {
            "text/plain": [
              "<Figure size 1000x700 with 2 Axes>"
            ],
            "image/png": "[encoded data removed]"
          },
          "metadata": {}
        },
        {
          "output_type": "stream",
          "name": "stdout",
          "text": [
            "True Positives: 5189\n",
            "False Negatives (Identified real review as fake review): 852\n"
          ]
        }
      ]
    },
    {
      "cell_type": "code",
      "source": [
        "print('Accuracy Score:')\n",
        "accuracy_score(label_test,lr_pred)"
      ],
      "metadata": {
        "colab": {
          "base_uri": "https://localhost:8080/"
        },
        "id": "zlpiOt0n8mhY",
        "outputId": "356737ef-c6a1-4f88-8b36-4365c648766d"
      },
      "execution_count": 86,
      "outputs": [
        {
          "output_type": "stream",
          "name": "stdout",
          "text": [
            "Accuracy Score:\n"
          ]
        },
        {
          "output_type": "execute_result",
          "data": {
            "text/plain": [
              "0.8819455894476504"
            ]
          },
          "metadata": {},
          "execution_count": 86
        }
      ]
    },
    {
      "cell_type": "markdown",
      "source": [
        "# Best Model Decision\n",
        "\n",
        "I would choose **Multinomial Naive Bayes Model**\n",
        "\n",
        "Even though it has less accuracy than LogisticRegression model by 0.02, MNB model have less false_positives, which means it less likely to label good review as a fake review\n"
      ],
      "metadata": {
        "id": "1b9r2cEB8sTv"
      }
    },
    {
      "cell_type": "code",
      "source": [
        "from joblib import dump\n",
        "import pickle\n",
        "\n",
        "# Assume 'pipeline' is your scikit-learn model or pipeline\n",
        "with open('/home/model.pkl', 'wb') as file:\n",
        "  pickle.dump(pipeline, file)\n",
        "\n",
        "dump(pipeline, '/home/amazon_fake_review_detector_model_pipeline2.joblib')"
      ],
      "metadata": {
        "colab": {
          "base_uri": "https://localhost:8080/",
          "height": 211
        },
        "id": "p8P0s_UHI0Ol",
        "outputId": "096585f9-d49f-4764-941e-1ce7dfcdfb65"
      },
      "execution_count": 123,
      "outputs": [
        {
          "output_type": "error",
          "ename": "PicklingError",
          "evalue": "Can't pickle <function text_process at 0x7afac838a170>: it's not the same object as __main__.text_process",
          "traceback": [
            "\u001b[0;31m---------------------------------------------------------------------------\u001b[0m",
            "\u001b[0;31mPicklingError\u001b[0m                             Traceback (most recent call last)",
            "\u001b[0;32m<ipython-input-123-ed78e2fd5a92>\u001b[0m in \u001b[0;36m<cell line: 5>\u001b[0;34m()\u001b[0m\n\u001b[1;32m      4\u001b[0m \u001b[0;31m# Assume 'pipeline' is your scikit-learn model or pipeline\u001b[0m\u001b[0;34m\u001b[0m\u001b[0;34m\u001b[0m\u001b[0m\n\u001b[1;32m      5\u001b[0m \u001b[0;32mwith\u001b[0m \u001b[0mopen\u001b[0m\u001b[0;34m(\u001b[0m\u001b[0;34m'/home/model.pkl'\u001b[0m\u001b[0;34m,\u001b[0m \u001b[0;34m'wb'\u001b[0m\u001b[0;34m)\u001b[0m \u001b[0;32mas\u001b[0m \u001b[0mfile\u001b[0m\u001b[0;34m:\u001b[0m\u001b[0;34m\u001b[0m\u001b[0;34m\u001b[0m\u001b[0m\n\u001b[0;32m----> 6\u001b[0;31m   \u001b[0mpickle\u001b[0m\u001b[0;34m.\u001b[0m\u001b[0mdump\u001b[0m\u001b[0;34m(\u001b[0m\u001b[0mpipeline\u001b[0m\u001b[0;34m,\u001b[0m \u001b[0mfile\u001b[0m\u001b[0;34m)\u001b[0m\u001b[0;34m\u001b[0m\u001b[0;34m\u001b[0m\u001b[0m\n\u001b[0m\u001b[1;32m      7\u001b[0m \u001b[0;34m\u001b[0m\u001b[0m\n\u001b[1;32m      8\u001b[0m \u001b[0mdump\u001b[0m\u001b[0;34m(\u001b[0m\u001b[0mpipeline\u001b[0m\u001b[0;34m,\u001b[0m \u001b[0;34m'/home/amazon_fake_review_detector_model_pipeline2.joblib'\u001b[0m\u001b[0;34m)\u001b[0m\u001b[0;34m\u001b[0m\u001b[0;34m\u001b[0m\u001b[0m\n",
            "\u001b[0;31mPicklingError\u001b[0m: Can't pickle <function text_process at 0x7afac838a170>: it's not the same object as __main__.text_process"
          ]
        }
      ]
    }
  ]
}